{
 "cells": [
  {
   "cell_type": "markdown",
   "metadata": {},
   "source": [
    "# Predicting Household Heating Decisions"
   ]
  },
  {
   "cell_type": "code",
   "execution_count": null,
   "metadata": {},
   "outputs": [],
   "source": [
    "# household characteristics cancelling out on top and bottom -> that is why we changed the model to remove them\n",
    "\n",
    "# options (equivalent): 1. interaction between features/variables 2. make coefficient a function of the other variable\n",
    "# e.g. divide ic by income"
   ]
  },
  {
   "cell_type": "code",
   "execution_count": 1,
   "metadata": {},
   "outputs": [
    {
     "name": "stderr",
     "output_type": "stream",
     "text": [
      "/Users/fahad/miniconda3/envs/BML/lib/python3.12/site-packages/tqdm/auto.py:21: TqdmWarning: IProgress not found. Please update jupyter and ipywidgets. See https://ipywidgets.readthedocs.io/en/stable/user_install.html\n",
      "  from .autonotebook import tqdm as notebook_tqdm\n"
     ]
    }
   ],
   "source": [
    "import torch\n",
    "import numpy as np\n",
    "import pyro\n",
    "import pyro.distributions as dist\n",
    "import pandas as pd\n",
    "from sklearn.preprocessing import LabelEncoder\n",
    "\n",
    "# plotting libraries\n",
    "import matplotlib.pyplot as plt\n",
    "import seaborn as sns"
   ]
  },
  {
   "cell_type": "code",
   "execution_count": 56,
   "metadata": {},
   "outputs": [],
   "source": [
    "data = pd.read_csv(\"heating_data.csv\")"
   ]
  },
  {
   "cell_type": "code",
   "execution_count": 57,
   "metadata": {},
   "outputs": [
    {
     "data": {
      "text/html": [
       "<div>\n",
       "<style scoped>\n",
       "    .dataframe tbody tr th:only-of-type {\n",
       "        vertical-align: middle;\n",
       "    }\n",
       "\n",
       "    .dataframe tbody tr th {\n",
       "        vertical-align: top;\n",
       "    }\n",
       "\n",
       "    .dataframe thead th {\n",
       "        text-align: right;\n",
       "    }\n",
       "</style>\n",
       "<table border=\"1\" class=\"dataframe\">\n",
       "  <thead>\n",
       "    <tr style=\"text-align: right;\">\n",
       "      <th></th>\n",
       "      <th>idcase</th>\n",
       "      <th>depvar</th>\n",
       "      <th>ic.gc</th>\n",
       "      <th>ic.gr</th>\n",
       "      <th>ic.ec</th>\n",
       "      <th>ic.er</th>\n",
       "      <th>ic.hp</th>\n",
       "      <th>oc.gc</th>\n",
       "      <th>oc.gr</th>\n",
       "      <th>oc.ec</th>\n",
       "      <th>oc.er</th>\n",
       "      <th>oc.hp</th>\n",
       "      <th>income</th>\n",
       "      <th>agehed</th>\n",
       "      <th>rooms</th>\n",
       "      <th>region</th>\n",
       "    </tr>\n",
       "  </thead>\n",
       "  <tbody>\n",
       "    <tr>\n",
       "      <th>0</th>\n",
       "      <td>1</td>\n",
       "      <td>gc</td>\n",
       "      <td>866.00</td>\n",
       "      <td>962.64</td>\n",
       "      <td>859.90</td>\n",
       "      <td>995.76</td>\n",
       "      <td>1135.50</td>\n",
       "      <td>199.69</td>\n",
       "      <td>151.72</td>\n",
       "      <td>553.34</td>\n",
       "      <td>505.60</td>\n",
       "      <td>237.88</td>\n",
       "      <td>7</td>\n",
       "      <td>25</td>\n",
       "      <td>6</td>\n",
       "      <td>ncostl</td>\n",
       "    </tr>\n",
       "    <tr>\n",
       "      <th>1</th>\n",
       "      <td>2</td>\n",
       "      <td>gc</td>\n",
       "      <td>727.93</td>\n",
       "      <td>758.89</td>\n",
       "      <td>796.82</td>\n",
       "      <td>894.69</td>\n",
       "      <td>968.90</td>\n",
       "      <td>168.66</td>\n",
       "      <td>168.66</td>\n",
       "      <td>520.24</td>\n",
       "      <td>486.49</td>\n",
       "      <td>199.19</td>\n",
       "      <td>5</td>\n",
       "      <td>60</td>\n",
       "      <td>5</td>\n",
       "      <td>scostl</td>\n",
       "    </tr>\n",
       "    <tr>\n",
       "      <th>2</th>\n",
       "      <td>3</td>\n",
       "      <td>gc</td>\n",
       "      <td>599.48</td>\n",
       "      <td>783.05</td>\n",
       "      <td>719.86</td>\n",
       "      <td>900.11</td>\n",
       "      <td>1048.30</td>\n",
       "      <td>165.58</td>\n",
       "      <td>137.80</td>\n",
       "      <td>439.06</td>\n",
       "      <td>404.74</td>\n",
       "      <td>171.47</td>\n",
       "      <td>4</td>\n",
       "      <td>65</td>\n",
       "      <td>2</td>\n",
       "      <td>ncostl</td>\n",
       "    </tr>\n",
       "    <tr>\n",
       "      <th>3</th>\n",
       "      <td>4</td>\n",
       "      <td>er</td>\n",
       "      <td>835.17</td>\n",
       "      <td>793.06</td>\n",
       "      <td>761.25</td>\n",
       "      <td>831.04</td>\n",
       "      <td>1048.70</td>\n",
       "      <td>180.88</td>\n",
       "      <td>147.14</td>\n",
       "      <td>483.00</td>\n",
       "      <td>425.22</td>\n",
       "      <td>222.95</td>\n",
       "      <td>2</td>\n",
       "      <td>50</td>\n",
       "      <td>4</td>\n",
       "      <td>scostl</td>\n",
       "    </tr>\n",
       "    <tr>\n",
       "      <th>4</th>\n",
       "      <td>5</td>\n",
       "      <td>er</td>\n",
       "      <td>755.59</td>\n",
       "      <td>846.29</td>\n",
       "      <td>858.86</td>\n",
       "      <td>985.64</td>\n",
       "      <td>883.05</td>\n",
       "      <td>174.91</td>\n",
       "      <td>138.90</td>\n",
       "      <td>404.41</td>\n",
       "      <td>389.52</td>\n",
       "      <td>178.49</td>\n",
       "      <td>2</td>\n",
       "      <td>25</td>\n",
       "      <td>6</td>\n",
       "      <td>valley</td>\n",
       "    </tr>\n",
       "  </tbody>\n",
       "</table>\n",
       "</div>"
      ],
      "text/plain": [
       "   idcase depvar   ic.gc   ic.gr   ic.ec   ic.er    ic.hp   oc.gc   oc.gr  \\\n",
       "0       1     gc  866.00  962.64  859.90  995.76  1135.50  199.69  151.72   \n",
       "1       2     gc  727.93  758.89  796.82  894.69   968.90  168.66  168.66   \n",
       "2       3     gc  599.48  783.05  719.86  900.11  1048.30  165.58  137.80   \n",
       "3       4     er  835.17  793.06  761.25  831.04  1048.70  180.88  147.14   \n",
       "4       5     er  755.59  846.29  858.86  985.64   883.05  174.91  138.90   \n",
       "\n",
       "    oc.ec   oc.er   oc.hp  income  agehed  rooms  region  \n",
       "0  553.34  505.60  237.88       7      25      6  ncostl  \n",
       "1  520.24  486.49  199.19       5      60      5  scostl  \n",
       "2  439.06  404.74  171.47       4      65      2  ncostl  \n",
       "3  483.00  425.22  222.95       2      50      4  scostl  \n",
       "4  404.41  389.52  178.49       2      25      6  valley  "
      ]
     },
     "execution_count": 57,
     "metadata": {},
     "output_type": "execute_result"
    }
   ],
   "source": [
    "data.head(5)"
   ]
  },
  {
   "cell_type": "code",
   "execution_count": 58,
   "metadata": {},
   "outputs": [
    {
     "data": {
      "text/plain": [
       "900"
      ]
     },
     "execution_count": 58,
     "metadata": {},
     "output_type": "execute_result"
    }
   ],
   "source": [
    "len(data)"
   ]
  },
  {
   "cell_type": "code",
   "execution_count": 59,
   "metadata": {},
   "outputs": [],
   "source": [
    "le = LabelEncoder()"
   ]
  },
  {
   "cell_type": "code",
   "execution_count": 60,
   "metadata": {},
   "outputs": [],
   "source": [
    "labels = [\"gc\", \"gr\", \"ec\", \"er\", \"hp\"]"
   ]
  },
  {
   "cell_type": "code",
   "execution_count": 61,
   "metadata": {},
   "outputs": [
    {
     "data": {
      "text/plain": [
       "array([2, 3, 0, 1, 4])"
      ]
     },
     "execution_count": 61,
     "metadata": {},
     "output_type": "execute_result"
    }
   ],
   "source": [
    "indices = le.fit_transform(labels)\n",
    "indices"
   ]
  },
  {
   "cell_type": "code",
   "execution_count": 62,
   "metadata": {},
   "outputs": [],
   "source": [
    "data[\"y\"] = le.transform(data[\"depvar\"])"
   ]
  },
  {
   "cell_type": "code",
   "execution_count": 63,
   "metadata": {},
   "outputs": [
    {
     "data": {
      "text/html": [
       "<div>\n",
       "<style scoped>\n",
       "    .dataframe tbody tr th:only-of-type {\n",
       "        vertical-align: middle;\n",
       "    }\n",
       "\n",
       "    .dataframe tbody tr th {\n",
       "        vertical-align: top;\n",
       "    }\n",
       "\n",
       "    .dataframe thead th {\n",
       "        text-align: right;\n",
       "    }\n",
       "</style>\n",
       "<table border=\"1\" class=\"dataframe\">\n",
       "  <thead>\n",
       "    <tr style=\"text-align: right;\">\n",
       "      <th></th>\n",
       "      <th>idcase</th>\n",
       "      <th>depvar</th>\n",
       "      <th>ic.gc</th>\n",
       "      <th>ic.gr</th>\n",
       "      <th>ic.ec</th>\n",
       "      <th>ic.er</th>\n",
       "      <th>ic.hp</th>\n",
       "      <th>oc.gc</th>\n",
       "      <th>oc.gr</th>\n",
       "      <th>oc.ec</th>\n",
       "      <th>oc.er</th>\n",
       "      <th>oc.hp</th>\n",
       "      <th>income</th>\n",
       "      <th>agehed</th>\n",
       "      <th>rooms</th>\n",
       "      <th>region</th>\n",
       "      <th>y</th>\n",
       "    </tr>\n",
       "  </thead>\n",
       "  <tbody>\n",
       "    <tr>\n",
       "      <th>0</th>\n",
       "      <td>1</td>\n",
       "      <td>gc</td>\n",
       "      <td>866.00</td>\n",
       "      <td>962.64</td>\n",
       "      <td>859.90</td>\n",
       "      <td>995.76</td>\n",
       "      <td>1135.50</td>\n",
       "      <td>199.69</td>\n",
       "      <td>151.72</td>\n",
       "      <td>553.34</td>\n",
       "      <td>505.60</td>\n",
       "      <td>237.88</td>\n",
       "      <td>7</td>\n",
       "      <td>25</td>\n",
       "      <td>6</td>\n",
       "      <td>ncostl</td>\n",
       "      <td>2</td>\n",
       "    </tr>\n",
       "    <tr>\n",
       "      <th>1</th>\n",
       "      <td>2</td>\n",
       "      <td>gc</td>\n",
       "      <td>727.93</td>\n",
       "      <td>758.89</td>\n",
       "      <td>796.82</td>\n",
       "      <td>894.69</td>\n",
       "      <td>968.90</td>\n",
       "      <td>168.66</td>\n",
       "      <td>168.66</td>\n",
       "      <td>520.24</td>\n",
       "      <td>486.49</td>\n",
       "      <td>199.19</td>\n",
       "      <td>5</td>\n",
       "      <td>60</td>\n",
       "      <td>5</td>\n",
       "      <td>scostl</td>\n",
       "      <td>2</td>\n",
       "    </tr>\n",
       "    <tr>\n",
       "      <th>2</th>\n",
       "      <td>3</td>\n",
       "      <td>gc</td>\n",
       "      <td>599.48</td>\n",
       "      <td>783.05</td>\n",
       "      <td>719.86</td>\n",
       "      <td>900.11</td>\n",
       "      <td>1048.30</td>\n",
       "      <td>165.58</td>\n",
       "      <td>137.80</td>\n",
       "      <td>439.06</td>\n",
       "      <td>404.74</td>\n",
       "      <td>171.47</td>\n",
       "      <td>4</td>\n",
       "      <td>65</td>\n",
       "      <td>2</td>\n",
       "      <td>ncostl</td>\n",
       "      <td>2</td>\n",
       "    </tr>\n",
       "    <tr>\n",
       "      <th>3</th>\n",
       "      <td>4</td>\n",
       "      <td>er</td>\n",
       "      <td>835.17</td>\n",
       "      <td>793.06</td>\n",
       "      <td>761.25</td>\n",
       "      <td>831.04</td>\n",
       "      <td>1048.70</td>\n",
       "      <td>180.88</td>\n",
       "      <td>147.14</td>\n",
       "      <td>483.00</td>\n",
       "      <td>425.22</td>\n",
       "      <td>222.95</td>\n",
       "      <td>2</td>\n",
       "      <td>50</td>\n",
       "      <td>4</td>\n",
       "      <td>scostl</td>\n",
       "      <td>1</td>\n",
       "    </tr>\n",
       "    <tr>\n",
       "      <th>4</th>\n",
       "      <td>5</td>\n",
       "      <td>er</td>\n",
       "      <td>755.59</td>\n",
       "      <td>846.29</td>\n",
       "      <td>858.86</td>\n",
       "      <td>985.64</td>\n",
       "      <td>883.05</td>\n",
       "      <td>174.91</td>\n",
       "      <td>138.90</td>\n",
       "      <td>404.41</td>\n",
       "      <td>389.52</td>\n",
       "      <td>178.49</td>\n",
       "      <td>2</td>\n",
       "      <td>25</td>\n",
       "      <td>6</td>\n",
       "      <td>valley</td>\n",
       "      <td>1</td>\n",
       "    </tr>\n",
       "  </tbody>\n",
       "</table>\n",
       "</div>"
      ],
      "text/plain": [
       "   idcase depvar   ic.gc   ic.gr   ic.ec   ic.er    ic.hp   oc.gc   oc.gr  \\\n",
       "0       1     gc  866.00  962.64  859.90  995.76  1135.50  199.69  151.72   \n",
       "1       2     gc  727.93  758.89  796.82  894.69   968.90  168.66  168.66   \n",
       "2       3     gc  599.48  783.05  719.86  900.11  1048.30  165.58  137.80   \n",
       "3       4     er  835.17  793.06  761.25  831.04  1048.70  180.88  147.14   \n",
       "4       5     er  755.59  846.29  858.86  985.64   883.05  174.91  138.90   \n",
       "\n",
       "    oc.ec   oc.er   oc.hp  income  agehed  rooms  region  y  \n",
       "0  553.34  505.60  237.88       7      25      6  ncostl  2  \n",
       "1  520.24  486.49  199.19       5      60      5  scostl  2  \n",
       "2  439.06  404.74  171.47       4      65      2  ncostl  2  \n",
       "3  483.00  425.22  222.95       2      50      4  scostl  1  \n",
       "4  404.41  389.52  178.49       2      25      6  valley  1  "
      ]
     },
     "execution_count": 63,
     "metadata": {},
     "output_type": "execute_result"
    }
   ],
   "source": [
    "data.head(5)"
   ]
  },
  {
   "cell_type": "code",
   "execution_count": 88,
   "metadata": {},
   "outputs": [
    {
     "data": {
      "image/svg+xml": [
       "<?xml version=\"1.0\" encoding=\"UTF-8\" standalone=\"no\"?>\n",
       "<!DOCTYPE svg PUBLIC \"-//W3C//DTD SVG 1.1//EN\"\n",
       " \"http://www.w3.org/Graphics/SVG/1.1/DTD/svg11.dtd\">\n",
       "<!-- Generated by graphviz version 2.50.0 (0)\n",
       " -->\n",
       "<!-- Pages: 1 -->\n",
       "<svg width=\"211pt\" height=\"157pt\"\n",
       " viewBox=\"0.00 0.00 210.50 157.00\" xmlns=\"http://www.w3.org/2000/svg\" xmlns:xlink=\"http://www.w3.org/1999/xlink\">\n",
       "<g id=\"graph0\" class=\"graph\" transform=\"scale(1 1) rotate(0) translate(4 153)\">\n",
       "<polygon fill=\"white\" stroke=\"transparent\" points=\"-4,4 -4,-153 206.5,-153 206.5,4 -4,4\"/>\n",
       "<g id=\"clust1\" class=\"cluster\">\n",
       "<title>cluster_data</title>\n",
       "<polygon fill=\"none\" stroke=\"black\" points=\"8,-8 8,-83 78,-83 78,-8 8,-8\"/>\n",
       "<text text-anchor=\"middle\" x=\"58.5\" y=\"-15.8\" font-family=\"Times,serif\" font-size=\"14.00\">data</text>\n",
       "</g>\n",
       "<!-- betas -->\n",
       "<g id=\"node1\" class=\"node\">\n",
       "<title>betas</title>\n",
       "<ellipse fill=\"white\" stroke=\"black\" cx=\"43\" cy=\"-130\" rx=\"28.7\" ry=\"18\"/>\n",
       "<text text-anchor=\"middle\" x=\"43\" y=\"-126.3\" font-family=\"Times,serif\" font-size=\"14.00\">betas</text>\n",
       "</g>\n",
       "<!-- obs -->\n",
       "<g id=\"node2\" class=\"node\">\n",
       "<title>obs</title>\n",
       "<ellipse fill=\"gray\" stroke=\"black\" cx=\"43\" cy=\"-57\" rx=\"27\" ry=\"18\"/>\n",
       "<text text-anchor=\"middle\" x=\"43\" y=\"-53.3\" font-family=\"Times,serif\" font-size=\"14.00\">obs</text>\n",
       "</g>\n",
       "<!-- betas&#45;&gt;obs -->\n",
       "<g id=\"edge1\" class=\"edge\">\n",
       "<title>betas&#45;&gt;obs</title>\n",
       "<path fill=\"none\" stroke=\"black\" d=\"M43,-111.81C43,-103.79 43,-94.05 43,-85.07\"/>\n",
       "<polygon fill=\"black\" stroke=\"black\" points=\"46.5,-85.03 43,-75.03 39.5,-85.03 46.5,-85.03\"/>\n",
       "</g>\n",
       "<!-- distribution_description_node -->\n",
       "<g id=\"node3\" class=\"node\">\n",
       "<title>distribution_description_node</title>\n",
       "<text text-anchor=\"start\" x=\"97.5\" y=\"-133.8\" font-family=\"Times,serif\" font-size=\"14.00\">betas ~ Normal</text>\n",
       "<text text-anchor=\"start\" x=\"97.5\" y=\"-118.8\" font-family=\"Times,serif\" font-size=\"14.00\">obs ~ Categorical</text>\n",
       "</g>\n",
       "</g>\n",
       "</svg>\n"
      ],
      "text/plain": [
       "<graphviz.graphs.Digraph at 0x2946fc320>"
      ]
     },
     "execution_count": 88,
     "metadata": {},
     "output_type": "execute_result"
    }
   ],
   "source": [
    "def model(data):\n",
    "    betas = pyro.sample(\"betas\", dist.Normal(0., 4.).expand([4]))\n",
    "    V_gc = betas[1] + betas[2] * torch.tensor(data[\"ic.gc\"].values, dtype=torch.float32) + betas[3] * torch.tensor(data[\"oc.gc\"].values, dtype=torch.float32)\n",
    "    V_gr = betas[1] + betas[2] * torch.tensor(data[\"ic.gr\"].values, dtype=torch.float32) + betas[3] * torch.tensor(data[\"oc.gr\"].values, dtype=torch.float32)\n",
    "    V_ec = betas[0] + betas[2] * torch.tensor(data[\"ic.ec\"].values, dtype=torch.float32) + betas[3] * torch.tensor(data[\"oc.ec\"].values, dtype=torch.float32)\n",
    "    V_er = betas[0] + betas[2] * torch.tensor(data[\"ic.er\"].values, dtype=torch.float32) + betas[3] * torch.tensor(data[\"oc.er\"].values, dtype=torch.float32)\n",
    "    V_hp = betas[2] * torch.tensor(data[\"ic.hp\"].values, dtype=torch.float32) + betas[3] * torch.tensor(data[\"oc.hp\"].values, dtype=torch.float32)\n",
    "    V = torch.stack([V_gc, V_gr, V_ec, V_er, V_hp], dim=0)[indices].T\n",
    "    \n",
    "    y_tensor = torch.tensor(data[\"y\"].values, dtype = torch.int32)\n",
    "\n",
    "    with pyro.plate(\"data\", len(data)):\n",
    "        return pyro.sample(\"obs\", dist.Categorical(logits=V), obs=y_tensor)\n",
    "\n",
    "pyro.render_model(model, model_args=(data,), render_distributions=True)"
   ]
  },
  {
   "cell_type": "code",
   "execution_count": 89,
   "metadata": {},
   "outputs": [
    {
     "name": "stderr",
     "output_type": "stream",
     "text": [
      "Sample: 100%|██████████| 1200/1200 [01:09, 17.15it/s, step size=2.99e-02, acc. prob=0.926]\n"
     ]
    }
   ],
   "source": [
    "# MCMC estimation\n",
    "from pyro.infer import MCMC, NUTS\n",
    "\n",
    "\n",
    "nuts_kernel = NUTS(model)\n",
    "mcmc = MCMC(nuts_kernel, num_samples=1000, warmup_steps=200)\n",
    "mcmc.run(data)\n",
    "hmc_samples = {k: v.detach().cpu().numpy() for k, v in mcmc.get_samples().items()}"
   ]
  },
  {
   "cell_type": "code",
   "execution_count": 95,
   "metadata": {},
   "outputs": [],
   "source": [
    "beta_ic_samples = hmc_samples['betas'][:,2]"
   ]
  },
  {
   "cell_type": "code",
   "execution_count": 100,
   "metadata": {},
   "outputs": [
    {
     "data": {
      "image/png": "[encoded data removed]",
      "text/plain": [
       "<Figure size 640x480 with 1 Axes>"
      ]
     },
     "metadata": {},
     "output_type": "display_data"
    }
   ],
   "source": [
    "# plot posterior distribution of beta_ic\n",
    "\n",
    "plt.hist(beta_ic_samples, bins=20)\n",
    "plt.title(\"Posterior Distribution (HMC) of beta_ic\")\n",
    "plt.show()"
   ]
  },
  {
   "cell_type": "code",
   "execution_count": 103,
   "metadata": {},
   "outputs": [
    {
     "data": {
      "text/plain": [
       "array([ 0.7902507 ,  0.6298026 , -0.00541945, -0.00516421], dtype=float32)"
      ]
     },
     "execution_count": 103,
     "metadata": {},
     "output_type": "execute_result"
    }
   ],
   "source": [
    "hmc_samples['betas'].mean(axis=0)"
   ]
  }
 ],
 "metadata": {
  "kernelspec": {
   "display_name": "BML",
   "language": "python",
   "name": "python3"
  },
  "language_info": {
   "codemirror_mode": {
    "name": "ipython",
    "version": 3
   },
   "file_extension": ".py",
   "mimetype": "text/x-python",
   "name": "python",
   "nbconvert_exporter": "python",
   "pygments_lexer": "ipython3",
   "version": "3.12.8"
  }
 },
 "nbformat": 4,
 "nbformat_minor": 2
}
